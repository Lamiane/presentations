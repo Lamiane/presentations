{
 "cells": [
  {
   "cell_type": "markdown",
   "metadata": {},
   "source": [
    "# Predicting engine reliability by support vector machines, Wei-Chiang Hong, Ping-Feng Pai (2006)\n",
    "\n",
    "### Cel pracy:\n",
    "zbadanie czy maszyny wektorów nośnych nadają się do przewidywania niezawodności silników (enigine reliability)\n",
    "\n",
    "### Wnioski:\n",
    "Tak, nadają się.\n",
    "\n",
    "### Jakieś ważne założenia:\n",
    "* engine reliability changes with time\n",
    "* SVMs have been succesfully applied in solving **nonlinear regression and time series problems**\n",
    "\n",
    "\n",
    "### State of the art:\n",
    "* ARIMA for time series in general and secifically for enigine reliability\n",
    "* RNNy też niezłe dla ER\n",
    "* obiecujące eksperymenty na różnych sieciach neuronowych (uwaga: rok 2006)\n",
    "* SVMS\n",
    "    * SVMs for stock prices, financial times series, air quality, wind speed\n",
    "    * DSVMs (D stands for dynamic -> [12]) for nonstationary time series problems\n",
    "    * C-ascending SVMs for nonstationary financial time series\n",
    "\n",
    "### Modele wybrane przez autorów do porównań:\n",
    "Autorzy pragną sprawdzić, czy SVMy nadają się do przewidywania niezawodności silników. W tym celu porównają SVMy do:\n",
    "* Duane\n",
    "* ARIMA\n",
    "* GRNN\n",
    "\n",
    "#### Duane\n",
    "jak w skrócie działa Duane?\n",
    "\n",
    "#### ARIMA\n",
    "powołać się na Igora Sieradzkiego albo nie, w każdym razie trzeba tu coś uzupełnić i wpisać\n",
    "\n",
    "#### GRNN\n",
    "jak w skrócie działa GRNN?\n",
    "\n",
    "#### SVM\n",
    "jak działają SVMy zaproponowane przez autorów?\n",
    "\n",
    "### Dobór hiperparametrów:\n",
    "#### Duane\n",
    "...\n",
    "\n",
    "#### ARIMA\n",
    "...\n",
    "\n",
    "#### GRNN\n",
    "...\n",
    "\n",
    "#### SVM\n",
    "<img src='hyperparameters_SVM.png' align='right' style=\"PADDING-RIGHT: 10px\" width=250px>\n",
    "\n",
    "1. Wybierz przykładową wartość $\\epsilon$ oraz przykładową wartość $C$. Wybierz zbiór wartości parametru $\\sigma$. Dla wszystkich zestawów naucz SVMa. Zapamiętaj wartość $\\sigma'$, dla której model miał najmniejszy błąd (jaka miara???) na zbiorze walidacyjnym.\n",
    "2. Wybierz przykładową wartość $\\epsilon$. Wybierz zbiór wartości dla parametru $C$. $\\sigma$ będzie równe $\\sigma'$ znalezionemu w poprzednim kroku. Dla wszystkich zestawów naucz SVMa. Zapamiętaj wartość $C'$, dla której model miał najmniejszy błąd (jaka miara???) na zbiorze walidacyjnym.\n",
    "3. Wybierz zbiór wartości dla hiperparametru $\\epsilon$. $\\sigma$ będzie równe $\\sigma'$ znalezionemu w poprzednim kroku. $C$ będzie równe $C'$ znalezionemu w poprzednim kroku. Dla wszystkich zestawów naucz SVMa. Zapamiętaj wartość $\\epsilon'$, dla której model miał najmniejszy błąd (jaka miara???) na zbiorze walidacyjnym.\n",
    "\n",
    "[obrazek na tablicy w 2D]\n",
    "\n",
    "<img src='hiperparametry.png' vspace=30px>\n",
    "\n",
    "\n",
    "### Dane:\n",
    "<img src='https://upload.wikimedia.org/wikipedia/commons/b/b1/Grampus_%28SS-523%29.jpg' width=200px align='left' style=\"PADDING-RIGHT: 10px\">\n",
    "**U.S.S. Grampus Data**\n",
    "\n",
    "jak wyglądają? [24] jakoś niełatwo dostępne, można szukać pod nazwą jak to wygląda\n",
    "\n",
    "\n",
    "\n"
   ]
  },
  {
   "cell_type": "markdown",
   "metadata": {},
   "source": [
    "### Wyniki eksperymentalne:\n",
    "\n",
    "<img src='eksperymenty.png'>\n",
    "\n",
    "\n",
    "### Wnioski\n",
    "...\n",
    "\n",
    "### Dyskusja\n",
    "..."
   ]
  },
  {
   "cell_type": "code",
   "execution_count": 2,
   "metadata": {
    "collapsed": true
   },
   "outputs": [],
   "source": [
    "# KOD\n",
    "# insert code her"
   ]
  },
  {
   "cell_type": "code",
   "execution_count": null,
   "metadata": {
    "collapsed": true
   },
   "outputs": [],
   "source": []
  },
  {
   "cell_type": "markdown",
   "metadata": {},
   "source": [
    "how to make LaTeX??\n"
   ]
  }
 ],
 "metadata": {
  "anaconda-cloud": {},
  "kernelspec": {
   "display_name": "Python [conda root]",
   "language": "python",
   "name": "conda-root-py"
  },
  "language_info": {
   "codemirror_mode": {
    "name": "ipython",
    "version": 3
   },
   "file_extension": ".py",
   "mimetype": "text/x-python",
   "name": "python",
   "nbconvert_exporter": "python",
   "pygments_lexer": "ipython3",
   "version": "3.5.2"
  }
 },
 "nbformat": 4,
 "nbformat_minor": 0
}
