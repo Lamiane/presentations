{
 "cells": [
  {
   "cell_type": "markdown",
   "metadata": {},
   "source": [
    "# Predicting engine reliability by support vector machines, Wei-Chiang Hong, Ping-Feng Pai (2006)\n",
    "\n",
    "### Cel pracy:\n",
    "zbadanie czy maszyny wektorów nośnych nadają się do przewidywania niezawodności silników (enigine reliability)\n",
    "\n",
    "### Wnioski:\n",
    "Tak, nadają się.\n",
    "\n",
    "### Jakieś ważne założenia:\n",
    "* engine reliability changes with time\n",
    "* SVMs have been succesfully applied in solving **nonlinear regression and time series problems**\n",
    "\n",
    "\n",
    "### State of the art:\n",
    "* ARIMA for time series in general and secifically for enigine reliability\n",
    "* RNNy też niezłe dla ER\n",
    "* obiecujące eksperymenty na różnych sieciach neuronowych (uwaga: rok 2006)\n",
    "* SVMS\n",
    "    * SVMs for stock prices, financial times series, air quality, wind speed\n",
    "    * DSVMs (D stands for dynamic -> [12]) for nonstationary time series problems\n",
    "    * C-ascending SVMs for nonstationary financial time series\n",
    "\n",
    "### Modele wybrane przez autorów do porównań:\n",
    "Autorzy pragną sprawdzić, czy SVMy nadają się do przewidywania niezawodności silników. W tym celu porównają SVMy do:\n",
    "* Duane\n",
    "* ARIMA\n",
    "* GRNN\n",
    "\n",
    "#### Duane\n",
    "http://reliawiki.org/index.php/Duane_Model\n",
    "\n",
    "#### ARIMA\n",
    "powołać się na Igora Sieradzkiego albo nie, w każdym razie trzeba tu coś uzupełnić i wpisać\n",
    "\n",
    "#### GRNN\n",
    "General Regression Neural Network składa się z czterech wartsw:\n",
    "1. input\n",
    "2. pattern neurons odpowiedzialne za zapamiętywanie relacji między wejściem a pożądanym wyjściem\n",
    "3. summation neurons:\n",
    "    * $S_s = \\sum\\limits_i \\theta_i$\n",
    "    * $S_w = \\sum\\limits_i w_i\\theta_i$,\n",
    "    \n",
    "    gdzie $w_i$ waga i-tego pattern neuronu, $\\theta_i$ wyjście i-itego pattern neuronu\n",
    "4. wyjście wyliczane zgodnie ze wzorem: $Q =\\frac{S_w}{S_s}$\n",
    "\n",
    "#### SVM\n",
    "jak działają SVMy zaproponowane przez autorów?\n",
    "\n",
    "### Dobór hiperparametrów:\n",
    "#### Duane\n",
    "\n",
    "<img src='duane.png'>\n",
    "\n",
    "#### ARIMA\n",
    "...\n",
    "\n",
    "#### GRNN\n",
    "...\n",
    "\n",
    "#### SVM\n",
    "<img src='hyperparameters_SVM.png' align='right' style=\"PADDING-RIGHT: 10px\" width=280px>\n",
    "\n",
    "1. Wybierz przykładową wartość $\\epsilon$ oraz przykładową wartość $C$. Wybierz zbiór wartości parametru $\\sigma$. Dla wszystkich zestawów naucz SVMa. Zapamiętaj wartość $\\sigma'$, dla której model miał najmniejszy błąd NRMSE na zbiorze walidacyjnym.\n",
    "2. Wybierz przykładową wartość $\\epsilon$. Wybierz zbiór wartości dla parametru $C$. $\\sigma$ będzie równe $\\sigma'$ znalezionemu w poprzednim kroku. Dla wszystkich zestawów naucz SVMa. Zapamiętaj wartość $C'$, dla której model miał najmniejszy błąd NRMSE na zbiorze walidacyjnym.\n",
    "3. Wybierz zbiór wartości dla hiperparametru $\\epsilon$. $\\sigma$ będzie równe $\\sigma'$ znalezionemu w poprzednim kroku. $C$ będzie równe $C'$ znalezionemu w poprzednim kroku. Dla wszystkich zestawów naucz SVMa. Zapamiętaj wartość $\\epsilon'$, dla której model miał najmniejszy błąd NRMSE na zbiorze walidacyjnym.\n",
    "\n",
    "[obrazek na tablicy w 2D]\n",
    "\n",
    "Miara: **NRMSE** (normalised root mean-square deviation) $NRMSE = \\frac{RMSE}{y_{max}-y_{min}}$.\n",
    "\n",
    "<img src='hiperparametry.png' vspace=30px width=500px>\n",
    "\n",
    "\n",
    "### Dane:\n",
    "\n",
    "**U.S.S. Grampus Data**\n",
    "\n",
    "<img src='https://upload.wikimedia.org/wikipedia/commons/b/b1/Grampus_%28SS-523%29.jpg' width=200px align='left' style=\"PADDING-RIGHT: 10px\">\n",
    "\n",
    "<img src='grampus_data.png' width=300px align='right' style=\"PADDING-LEFT: 10px\">\n",
    "\n",
    "Często wykorzystywany zbiór danych w problemie ER. Grampusy pływały na silniksch Diesla. Niestety trudno ustalić, jak te dane dokładnie wyglądają, gdyż wszystkie prace, ograniczają się do podania wyników. Do oryginalnej pracy Aschera i Feingolda nie udało się dotrzeć.\n",
    "\n",
    "Udało się ustalić co nastepuje: \"data-set is the data of arrival times to unscheduled maintenance actions  for  the  USS  Grampus  no.  4  main  propulsion  diesel engine\".\n",
    "\n",
    "Stąd wnioskuję, że wartością, którą model ma przewidzieć, jest czas następnej awarii silnika. Nie mam pojęcia, co może być wejściem - wibracje?\n",
    "\n"
   ]
  },
  {
   "cell_type": "markdown",
   "metadata": {},
   "source": [
    "### Wyniki eksperymentalne:\n",
    "\n",
    "<img src='eksperymenty.png'>\n",
    "\n",
    "\n",
    "Miara: NRMSE (normalised root mean-square deviation) $NRMSE = \\frac{RMSE}{y_{max}-y_{min}}$.\n",
    "\n",
    "### Wnioski\n",
    "...\n",
    "\n",
    "### Dyskusja\n",
    "..."
   ]
  },
  {
   "cell_type": "code",
   "execution_count": 2,
   "metadata": {
    "collapsed": true
   },
   "outputs": [],
   "source": [
    "# KOD\n",
    "# insert code here"
   ]
  },
  {
   "cell_type": "code",
   "execution_count": null,
   "metadata": {
    "collapsed": true
   },
   "outputs": [],
   "source": []
  }
 ],
 "metadata": {
  "kernelspec": {
   "display_name": "Python 2",
   "language": "python",
   "name": "python2"
  },
  "language_info": {
   "codemirror_mode": {
    "name": "ipython",
    "version": 2
   },
   "file_extension": ".py",
   "mimetype": "text/x-python",
   "name": "python",
   "nbconvert_exporter": "python",
   "pygments_lexer": "ipython2",
   "version": "2.7.12"
  }
 },
 "nbformat": 4,
 "nbformat_minor": 0
}
